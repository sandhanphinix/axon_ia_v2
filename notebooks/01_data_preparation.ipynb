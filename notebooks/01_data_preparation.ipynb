{
 "cells": [
  {
   "cell_type": "markdown",
   "metadata": {},
   "source": [
    "# Axon IA: Data Preparation\n",
    "\n",
    "This notebook demonstrates how to prepare data for use with Axon IA. We'll cover:\n",
    "\n",
    "1. Loading medical images (NIfTI format)\n",
    "2. Preprocessing data\n",
    "3. Creating the expected directory structure\n",
    "4. Visualizing the data"
   ]
  },
  {
   "cell_type": "code",
   "execution_count": null,
   "metadata": {},
   "outputs": [],
   "source": [
    "import os\n",
    "import sys\n",
    "import numpy as np\n",
    "import matplotlib.pyplot as plt\n",
    "from pathlib import Path\n",
    "import shutil\n",
    "\n",
    "# Add parent directory to path for imports\n",
    "module_path = os.path.abspath(os.path.join('..'))\n",
    "if module_path not in sys.path:\n",
    "    sys.path.append(module_path)"
   ]
  },
  {
   "cell_type": "code",
   "execution_count": null,
   "metadata": {},
   "outputs": [],
   "source": [
    "from axon_ia.utils.nifti_utils import load_nifti, save_nifti\n",
    "from axon_ia.utils.visualization import plot_slices\n",
    "from axon_ia.data.preprocessing import (\n",
    "    resample_to_spacing,\n",
    "    normalize_intensity,\n",
    "    crop_foreground,\n",
    "    standardize_orientation\n",
    ")"
   ]
  },
  {
   "cell_type": "markdown",
   "metadata": {},
   "source": [
    "## 1. Load Sample Data\n",
    "\n",
    "First, let's load some sample medical images. For this example, we'll create synthetic data."
   ]
  },
  {
   "cell_type": "code",
   "execution_count": null,
   "metadata": {},
   "outputs": [],
   "source": [
    "# Create a synthetic volume with a spherical \"lesion\"\n",
    "def create_synthetic_volume(size=(128, 128, 64)):\n",
    "    # Create background\n",
    "    volume = np.random.normal(100, 20, size).astype(np.float32)\n",
    "    \n",
    "    # Create a spherical region with higher intensity\n",
    "    x, y, z = np.ogrid[:size[0], :size[1], :size[2]]\n",
    "    center_x, center_y, center_z = size[0]//2, size[1]//2, size[2]//2\n",
    "    sphere = ((x - center_x)**2 + (y - center_y)**2 + ((z - center_z))**2) <= (size[0]//8)**2\n",
    "    volume[sphere] += 50\n",
    "    \n",
    "    # Create mask\n",
    "    mask = sphere.astype(np.float32)\n",
    "    \n",
    "    return volume, mask\n",
    "\n",
    "# Create a volume and mask\n",
    "volume, mask = create_synthetic_volume()\n",
    "\n",
    "# Visualize\n",
    "fig = plot_slices(volume, mask=mask, n_slices=3)\n",
    "plt.show()"
   ]
  },
  {
   "cell_type": "markdown",
   "metadata": {},
   "source": [
    "## 2. Preprocess Data\n",
    "\n",
    "Next, let's apply common preprocessing steps:"
   ]
  },
  {
   "cell_type": "code",
   "execution_count": null,
   "metadata": {},
   "outputs": [],
   "source": [
    "# 1. Resample to isotropic spacing\n",
    "original_spacing = (1.0, 1.0, 2.0)  # Example: Z has lower resolution\n",
    "target_spacing = (1.0, 1.0, 1.0)  # Target: isotropic 1mm\n",
    "\n",
    "print(f\"Original volume shape: {volume.shape}\")\n",
    "\n",
    "resampled_volume = resample_to_spacing(\n",
    "    volume, \n",
    "    original_spacing=original_spacing,\n",
    "    target_spacing=target_spacing,\n",
    "    interpolation='linear'\n",
    ")\n",
    "\n",
    "resampled_mask = resample_to_spacing(\n",
    "    mask, \n",
    "    original_spacing=original_spacing,\n",
    "    target_spacing=target_spacing,\n",
    "    interpolation='nearest',\n",
    "    is_mask=True\n",
    ")\n",
    "\n",
    "print(f\"Resampled volume shape: {resampled_volume.shape}\")\n",
    "\n",
    "# Visualize resampled volume\n",
    "fig = plot_slices(resampled_volume, mask=resampled_mask, n_slices=3)\n",
    "plt.show()"
   ]
  },
  {
   "cell_type": "code",
   "execution_count": null,
   "metadata": {},
   "outputs": [],
   "source": [
    "# 2. Normalize intensity\n",
    "normalized_volume = normalize_intensity(\n",
    "    resampled_volume,\n",
    "    mode='z_score',\n",
    "    mask=resampled_mask\n",
    ")\n",
    "\n",
    "print(f\"Normalized volume stats - Mean: {normalized_volume.mean():.4f}, Std: {normalized_volume.std():.4f}\")\n",
    "\n",
    "# Visualize normalized volume\n",
    "fig = plot_slices(normalized_volume, mask=resampled_mask, n_slices=3)\n",
    "plt.show()"
   ]
  },
  {
   "cell_type": "code",
   "execution_count": null,
   "metadata": {},
   "outputs": [],
   "source": [
    "# 3. Crop foreground to focus on the region of interest\n",
    "cropped_volume, cropped_mask, crop_indices = crop_foreground(\n",
    "    normalized_volume,\n",
    "    resampled_mask,\n",
    "    margin=10\n",
    ")\n",
    "\n",
    "print(f\"Cropped volume shape: {cropped_volume.shape}\")\n",
    "\n",
    "# Visualize cropped volume\n",
    "fig = plot_slices(cropped_volume, mask=cropped_mask, n_slices=3)\n",
    "plt.show()"
   ]
  },
  {
   "cell_type": "markdown",
   "metadata": {},
   "source": [
    "## 3. Create Directory Structure\n",
    "\n",
    "Now, let's create the expected directory structure for Axon IA:"
   ]
  },
  {
   "cell_type": "code",
   "execution_count": null,
   "metadata": {},
   "outputs": [],
   "source": [
    "# Create directory structure\n",
    "data_dir = Path(\"../data_example\")\n",
    "\n",
    "# Create splits\n",
    "for split in [\"train\", \"val\", \"test\"]:\n",
    "    (data_dir / split).mkdir(parents=True, exist_ok=True)\n",
    "\n",
    "# We'll create one sample patient for the train split\n",
    "patient_dir = data_dir / \"train\" / \"patient_001\"\n",
    "patient_dir.mkdir(exist_ok=True)\n",
    "\n",
    "# Save preprocessed volume as multiple modalities (simulated)\n",
    "# In a real scenario, you would have actual multi-modal data\n",
    "\n",
    "# FLAIR (main contrast)\n",
    "save_nifti(cropped_volume, patient_dir / \"flair.nii.gz\")\n",
    "\n",
    "# T1 (slightly different contrast - simulated)\n",
    "t1_volume = cropped_volume * 0.8 + np.random.normal(0, 0.1, cropped_volume.shape)\n",
    "save_nifti(t1_volume, patient_dir / \"t1.nii.gz\")\n",
    "\n",
    "# T2 (slightly different contrast - simulated)\n",
    "t2_volume = cropped_volume * 1.2 + np.random.normal(0, 0.1, cropped_volume.shape)\n",
    "save_nifti(t2_volume, patient_dir / \"t2.nii.gz\")\n",
    "\n",
    "# DWI (slightly different contrast - simulated)\n",
    "dwi_volume = cropped_volume * 0.7 + np.random.normal(0, 0.15, cropped_volume.shape)\n",
    "save_nifti(dwi_volume, patient_dir / \"dwi.nii.gz\")\n",
    "\n",
    "# Save mask\n",
    "save_nifti(cropped_mask, patient_dir / \"mask.nii.gz\")\n",
    "\n",
    "print(f\"Data saved to {data_dir}\")"
   ]
  },
  {
   "cell_type": "markdown",
   "metadata": {},
   "source": [
    "## 4. Load and Visualize the Prepared Data\n",
    "\n",
    "Finally, let's load and visualize the data from the created directory structure:"
   ]
  },
  {
   "cell_type": "code",
   "execution_count": null,
   "metadata": {},
   "outputs": [],
   "source": [
    "# Load all modalities\n",
    "modalities = [\"flair\", \"t1\", \"t2\", \"dwi\"]\n",
    "loaded_volumes = {}\n",
    "\n",
    "for modality in modalities:\n",
    "    filepath = patient_dir / f\"{modality}.nii.gz\"\n",
    "    loaded_volumes[modality] = load_nifti(filepath)\n",
    "\n",
    "# Load mask\n",
    "loaded_mask = load_nifti(patient_dir / \"mask.nii.gz\")\n",
    "\n",
    "# Visualize each modality\n",
    "fig, axes = plt.subplots(2, 2, figsize=(12, 10))\n",
    "axes = axes.flatten()\n",
    "\n",
    "for i, (modality, volume) in enumerate(loaded_volumes.items()):\n",
    "    # Get middle slice\n",
    "    slice_idx = volume.shape[2] // 2\n",
    "    img_slice = volume[:, :, slice_idx]\n",
    "    mask_slice = loaded_mask[:, :, slice_idx]\n",
    "    \n",
    "    # Plot\n",
    "    axes[i].imshow(img_slice, cmap='gray')\n",
    "    axes[i].imshow(mask_slice, alpha=0.3, cmap='red')\n",
    "    axes[i].set_title(modality.upper())\n",
    "    axes[i].axis('off')\n",
    "\n",
    "plt.tight_layout()\n",
    "plt.show()"
   ]
  },
  {
   "cell_type": "markdown",
   "metadata": {},
   "source": [
    "## 5. Use the AxonDataset Class\n",
    "\n",
    "Now let's use the `AxonDataset` class to load our prepared data:"
   ]
  },
  {
   "cell_type": "code",
   "execution_count": null,
   "metadata": {},
   "outputs": [],
   "source": [
    "from axon_ia.data.dataset import AxonDataset\n",
    "from axon_ia.data.transforms import get_train_transform\n",
    "\n",
    "# Create dataset\n",
    "dataset = AxonDataset(\n",
    "    root_dir=data_dir,\n",
    "    split=\"train\",\n",
    "    modalities=modalities,\n",
    "    target=\"mask\",\n",
    "    transform=get_train_transform()\n",
    ")\n",
    "\n",
    "print(f\"Dataset length: {len(dataset)}\")\n",
    "\n",
    "# Get a sample\n",
    "sample = dataset[0]\n",
    "\n",
    "# Print info\n",
    "print(f\"Sample ID: {sample['sample_id']}\")\n",
    "print(f\"Image shape: {sample['image'].shape}\")\n",
    "print(f\"Mask shape: {sample['mask'].shape}\")\n",
    "\n",
    "# Visualize sample\n",
    "from axon_ia.utils.visualization import plot_multiple_slices\n",
    "\n",
    "# Convert PyTorch tensor to numpy\n",
    "image = sample['image'].numpy()  # Shape: (C, D, H, W)\n",
    "mask = sample['mask'].numpy()    # Shape: (1, D, H, W)\n",
    "\n",
    "# Plot all channels\n",
    "fig, axes = plt.subplots(len(modalities), 3, figsize=(15, 12))\n",
    "\n",
    "for i, modality in enumerate(modalities):\n",
    "    for j, slice_idx in enumerate([image.shape[1]//4, image.shape[1]//2, 3*image.shape[1]//4]):\n",
    "        axes[i, j].imshow(image[i, slice_idx], cmap='gray')\n",
    "        axes[i, j].imshow(mask[0, slice_idx], alpha=0.3, cmap='red')\n",
    "        axes[i, j].set_title(f\"{modality.upper()} - Slice {slice_idx}\")\n",
    "        axes[i, j].axis('off')\n",
    "\n",
    "plt.tight_layout()\n",
    "plt.show()"
   ]
  }
 ],
 "metadata": {
  "kernelspec": {
   "display_name": "Python 3",
   "language": "python",
   "name": "python3"
  },
  "language_info": {
   "codemirror_mode": {
    "name": "ipython",
    "version": 3
   },
   "file_extension": ".py",
   "mimetype": "text/x-python",
   "name": "python",
   "nbconvert_exporter": "python",
   "pygments_lexer": "ipython3",
   "version": "3.8.10"
  }
 },
 "nbformat": 4,
 "nbformat_minor": 4
}